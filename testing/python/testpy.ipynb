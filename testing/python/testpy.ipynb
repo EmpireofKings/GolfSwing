{
 "cells": [
  {
   "cell_type": "code",
   "execution_count": 7,
   "metadata": {},
   "outputs": [
    {
     "name": "stdout",
     "output_type": "stream",
     "text": [
      "[[215, 189, 192, 185, 189, 186, 184, 188, 160, 176, 175, 158, 159, 169, 170, 216, 208], [216, 189, 191, 185, 189, 186, 184, 187, 160, 177, 174, 160, 172, 171, 217, 209], [216, 189, 190, 184, 189, 187, 184, 188, 160, 174, 176, 160, 171, 171, 217, 207], [214, 191, 183, 175, 185, 199, 194, 190, 158, 172, 174, 171, 176, 170, 214, 214, 205], [215, 191, 179, 165, 183, 203, 193, 192, 156, 178, 175, 170, 177, 170, 215, 215, 205], [214, 189, 180, 161, 177, 199, 202, 190, 157, 184, 173, 168, 174, 170, 213, 203], [213, 191, 180, 160, 181, 202, 201, 195, 158, 186, 172, 170, 174, 170, 211, 213, 203], [212, 191, 180, 157, 175, 202, 198, 189, 160, 184, 173, 171, 183, 174, 211, 212, 203], [212, 187, 192, 177, 193, 182, 190, 197, 163, 180, 178, 153, 163, 169, 212, 205], [211, 188, 199, 194, 176, 171, 175, 176, 150, 154, 162, 213, 210, 198], [190, 198, 169, 170, 157, 181, 160, 153, 170, 170, 177, 152, 153, 162, 209, 198], [186, 195, 168, 156, 178, 147, 151, 172, 168, 180, 154, 153, 161, 203, 192], [183, 191, 164, 179, 162, 175, 144, 154, 155, 171, 171, 183, 153, 154, 162, 198, 186]]\n",
      "13\n",
      "17\n"
     ]
    }
   ],
   "source": [
    "x=[[215, 189, 192, 185, 189, 186, 184, 188, 160, 176, 175, 158, 159, 169, 170, 216, 208],\n",
    "  [216, 189, 191, 185, 189, 186, 184, 187, 160, 177, 174, 160,172, 171, 217, 209],\n",
    "  [216, 189, 190, 184, 189, 187, 184, 188, 160, 174, 176, 160,171, 171, 217, 207],\n",
    "   [214, 191, 183, 175, 185, 199, 194, 190, 158, 172, 174, 171, 176, 170, 214, 214, 205],\n",
    "   [215, 191, 179, 165, 183, 203, 193, 192, 156, 178, 175, 170, 177, 170, 215, 215, 205],\n",
    "   [214, 189, 180, 161, 177, 199, 202, 190, 157, 184, 173, 168, 174, 170, 213,203],\n",
    "   [213, 191, 180, 160, 181, 202, 201, 195, 158, 186, 172, 170, 174, 170, 211, 213, 203],\n",
    "   [212, 191, 180, 157, 175, 202, 198, 189, 160, 184, 173, 171, 183, 174, 211, 212, 203],\n",
    "   [212, 187, 192, 177, 193, 182, 190, 197, 163, 180, 178, 153, 163, 169,212, 205],\n",
    "   [211, 188, 199, 194, 176, 171, 175, 176, 150, 154, 162, 213, 210, 198],\n",
    "   [190, 198, 169, 170, 157, 181, 160, 153, 170, 170, 177, 152, 153, 162, 209, 198],\n",
    "   [186, 195, 168, 156, 178, 147, 151, 172, 168, 180, 154, 153, 161, 203, 192],\n",
    "   [183, 191, 164, 179, 162, 175, 144, 154, 155, 171, 171, 183, 153, 154, 162, 198, 186]\n",
    "  ]\n",
    "print (x)\n",
    "print (len(a))\n",
    "print (len(a[0]))"
   ]
  },
  {
   "cell_type": "code",
   "execution_count": 5,
   "metadata": {},
   "outputs": [
    {
     "name": "stdout",
     "output_type": "stream",
     "text": [
      "[[144, 145, 148, 183, 210, 142, 177, 208, 190, 239, 293, 187, 188, 240, 292, 140, 133], [144, 144, 148, 183, 208, 141, 176, 205, 189, 239, 292, 187, 240, 290, 139, 132], [143, 144, 147, 182, 209, 141, 177, 206, 190, 240, 293, 188, 240, 292, 138, 132], [142, 147, 141, 172, 197, 153, 179, 199, 190, 240, 295, 193, 238, 293, 137, 141, 130], [143, 146, 137, 164, 171, 155, 177, 179, 190, 240, 295, 194, 239, 293, 138, 140, 131], [143, 145, 140, 147, 137, 152, 157, 139, 194, 241, 296, 196, 244, 294, 138, 132], [138, 144, 136, 127, 111, 153, 150, 114, 194, 240, 297, 197, 244, 294, 133, 135, 130], [139, 144, 137, 140, 120, 151, 149, 118, 196, 243, 295, 198, 243, 293, 134, 136, 131], [141, 143, 149, 176, 200, 138, 174, 197, 191, 242, 288, 187, 241, 284, 136, 132], [145, 149, 160, 175, 137, 196, 236, 276, 190, 237, 279, 141, 140, 131], [145, 152, 129, 130, 112, 139, 130, 112, 195, 237, 277, 191, 240, 285, 137, 129], [140, 145, 119, 96, 135, 123, 97, 193, 240, 281, 189, 241, 286, 129, 122], [137, 141, 123, 123, 103, 134, 126, 100, 101, 192, 239, 279, 189, 241, 286, 126, 118]]\n"
     ]
    }
   ],
   "source": [
    "y=[[144, 145, 148, 183, 210, 142, 177, 208, 190, 239, 293, 187, 188, 240, 292, 140, 133],\n",
    "   [144, 144, 148, 183, 208, 141, 176, 205, 189, 239, 292, 187,240, 290, 139, 132],\n",
    "   [143, 144, 147, 182, 209, 141, 177, 206, 190, 240, 293, 188, 240, 292, 138, 132],\n",
    "   [142, 147, 141, 172, 197, 153, 179, 199, 190, 240, 295, 193, 238, 293, 137, 141, 130],\n",
    "   [143, 146, 137, 164, 171, 155, 177, 179, 190, 240, 295, 194, 239, 293, 138, 140, 131],\n",
    "   [143, 145, 140, 147, 137, 152, 157, 139, 194, 241, 296, 196, 244, 294, 138, 132],\n",
    "   [138, 144, 136, 127, 111, 153, 150, 114, 194, 240, 297, 197, 244, 294, 133, 135, 130],\n",
    "   [139, 144, 137, 140, 120, 151, 149, 118, 196, 243, 295, 198, 243, 293, 134, 136, 131],\n",
    "   [141, 143, 149, 176, 200, 138, 174, 197, 191, 242, 288, 187, 241, 284, 136, 132],\n",
    "   [145, 149, 160, 175, 137, 196, 236, 276, 190, 237, 279, 141, 140, 131],\n",
    "   [145, 152, 129, 130, 112, 139, 130, 112, 195, 237, 277, 191, 240, 285, 137, 129],\n",
    "   [140, 145, 119, 96, 135, 123, 97, 193, 240, 281, 189, 241, 286, 129, 122],\n",
    "   [137, 141, 123, 123, 103, 134, 126, 100, 101, 192, 239, 279, 189, 241, 286, 126, 118],\n",
    "]\n",
    "\n",
    "print(y)"
   ]
  },
  {
   "cell_type": "code",
   "execution_count": 14,
   "metadata": {},
   "outputs": [
    {
     "ename": "TypeError",
     "evalue": "an integer is required",
     "output_type": "error",
     "traceback": [
      "\u001b[1;31m---------------------------------------------------------------------------\u001b[0m",
      "\u001b[1;31mTypeError\u001b[0m                                 Traceback (most recent call last)",
      "\u001b[1;32m<ipython-input-14-18d484fe2764>\u001b[0m in \u001b[0;36m<module>\u001b[1;34m()\u001b[0m\n\u001b[0;32m     15\u001b[0m     \u001b[1;32mfor\u001b[0m \u001b[0mj\u001b[0m \u001b[1;32min\u001b[0m \u001b[0mrange\u001b[0m\u001b[1;33m(\u001b[0m\u001b[0mlen\u001b[0m\u001b[1;33m(\u001b[0m\u001b[0ma\u001b[0m\u001b[1;33m)\u001b[0m\u001b[1;33m)\u001b[0m\u001b[1;33m:\u001b[0m\u001b[1;33m\u001b[0m\u001b[0m\n\u001b[0;32m     16\u001b[0m         \u001b[1;32mfor\u001b[0m \u001b[0mjj\u001b[0m \u001b[1;32min\u001b[0m \u001b[0mrange\u001b[0m\u001b[1;33m(\u001b[0m \u001b[0mlen\u001b[0m\u001b[1;33m(\u001b[0m\u001b[0ma\u001b[0m\u001b[1;33m[\u001b[0m\u001b[1;36m0\u001b[0m\u001b[1;33m]\u001b[0m\u001b[1;33m)\u001b[0m\u001b[1;33m)\u001b[0m\u001b[1;33m:\u001b[0m\u001b[1;33m\u001b[0m\u001b[0m\n\u001b[1;32m---> 17\u001b[1;33m             \u001b[0mcv\u001b[0m\u001b[1;33m.\u001b[0m\u001b[0mcircle\u001b[0m\u001b[1;33m(\u001b[0m\u001b[1;33m(\u001b[0m\u001b[0mx\u001b[0m\u001b[1;33m[\u001b[0m\u001b[0mj\u001b[0m\u001b[1;33m]\u001b[0m\u001b[1;33m[\u001b[0m\u001b[0mjj\u001b[0m\u001b[1;33m]\u001b[0m\u001b[1;33m,\u001b[0m\u001b[0my\u001b[0m\u001b[1;33m[\u001b[0m\u001b[0mj\u001b[0m\u001b[1;33m]\u001b[0m\u001b[1;33m[\u001b[0m\u001b[0mjj\u001b[0m\u001b[1;33m]\u001b[0m\u001b[1;33m)\u001b[0m\u001b[1;33m,\u001b[0m \u001b[1;36m4\u001b[0m\u001b[1;33m,\u001b[0m \u001b[0mcolors\u001b[0m\u001b[1;33m[\u001b[0m\u001b[0mi\u001b[0m\u001b[1;33m]\u001b[0m\u001b[1;33m,\u001b[0m \u001b[0mthickness\u001b[0m\u001b[1;33m=\u001b[0m\u001b[1;33m-\u001b[0m\u001b[1;36m1\u001b[0m\u001b[1;33m)\u001b[0m\u001b[1;33m\u001b[0m\u001b[0m\n\u001b[0m\u001b[0;32m     18\u001b[0m \u001b[1;33m\u001b[0m\u001b[0m\n\u001b[0;32m     19\u001b[0m \u001b[1;31m#to_plot = cv.addWeighted(oriImg, 0.3, canvas, 0.7, 0)\u001b[0m\u001b[1;33m\u001b[0m\u001b[1;33m\u001b[0m\u001b[0m\n",
      "\u001b[1;31mTypeError\u001b[0m: an integer is required"
     ]
    }
   ],
   "source": [
    "import cv2 as cv \n",
    "import numpy as np\n",
    "import matplotlib\n",
    "%matplotlib inline\n",
    "import pylab as plt\n",
    "# visualize\n",
    "colors = [[255, 0, 0], [255, 85, 0], [255, 170, 0], [255, 255, 0], [170, 255, 0], [85, 255, 0], [0, 255, 0], \\\n",
    "          [0, 255, 85], [0, 255, 170], [0, 255, 255], [0, 170, 255], [0, 85, 255], [0, 0, 255], [85, 0, 255], \\\n",
    "          [170, 0, 255], [255, 0, 255], [255, 0, 170], [255, 0, 85]]\n",
    "cmap = matplotlib.cm.get_cmap('hsv')\n",
    "\n",
    "#canvas = cv.imread(test_image) # B,G,R order\n",
    "\n",
    "for i in range(18):\n",
    "    rgba = np.array(cmap(1 - i/18. - 1./36))\n",
    "    rgba[0:3] *= 255\n",
    "    for j in range(len(x)):\n",
    "            cv.circle((x[j],y[j]), 4, colors[i], thickness=-1)\n",
    "\n",
    "#to_plot = cv.addWeighted(oriImg, 0.3, canvas, 0.7, 0)\n",
    "plt.imshow(to_plot[:,:,[2,1,0]])\n",
    "fig = matplotlib.pyplot.gcf()\n",
    "fig.set_size_inches(12, 12)"
   ]
  },
  {
   "cell_type": "code",
   "execution_count": 32,
   "metadata": {},
   "outputs": [
    {
     "data": {
      "image/png": "[encoded data removed]",
      "text/plain": [
       "<matplotlib.figure.Figure at 0xeb374e0>"
      ]
     },
     "metadata": {},
     "output_type": "display_data"
    }
   ],
   "source": [
    "import scipy\n",
    "from scipy import ndimage\n",
    "import numpy as np\n",
    "import matplotlib.pyplot as plt\n",
    "\n",
    "plt.plot(x[0], y[0],\"o\")\n",
    "plt.gca().invert_yaxis()"
   ]
  },
  {
   "cell_type": "code",
   "execution_count": 33,
   "metadata": {
    "collapsed": true
   },
   "outputs": [],
   "source": [
    "x=[215, 189, 192, 185, 189, 186, 184, 188, 160, 176, 175, 158, 159, 169, 170, 216, 208,\n",
    "   216, 189, 191, 185, 189, 186, 184, 187, 160, 177, 174, 160, 172, 171, 217, 209,\n",
    "   216, 189, 190, 184, 189, 187, 184, 188, 160, 174, 176, 160, 171, 171, 217, 207,\n",
    "   214, 191, 183, 175, 185, 199, 194, 190, 158, 172, 174, 171, 176, 170, 214, 214, 205,\n",
    "   215, 191, 179, 165, 183, 203, 193, 192, 156, 178, 175, 170, 177, 170, 215, 215, 205,\n",
    "   214, 189, 180, 161, 177, 199, 202, 190, 157, 184, 173, 168, 174, 170, 213, 203,\n",
    "   213, 191, 180, 160, 181, 202, 201, 195, 158, 186, 172, 170, 174, 170, 211, 213, 203,\n",
    "   212, 191, 180, 157, 175, 202, 198, 189, 160, 184, 173, 171, 183, 174, 211, 212, 203,\n",
    "   212, 187, 192, 177, 193, 182, 190, 197, 163, 180, 178, 153, 163, 169, 212, 205,\n",
    "   211, 188, 199, 194, 176, 171, 175, 176, 150, 154, 162, 213, 210, 198,\n",
    "   190, 198, 169, 170, 157, 181, 160, 153, 170, 170, 177, 152, 153, 162, 209, 198,\n",
    "   186, 195, 168, 156, 178, 147, 151, 172, 168, 180, 154, 153, 161, 203, 192,\n",
    "   183, 191, 164, 179, 162, 175, 144, 154, 155, 171, 171, 183, 153, 154, 162, 198, 186\n",
    "  ]"
   ]
  },
  {
   "cell_type": "code",
   "execution_count": 34,
   "metadata": {
    "collapsed": true
   },
   "outputs": [],
   "source": [
    "y=[144, 145, 148, 183, 210, 142, 177, 208, 190, 239, 293, 187, 188, 240, 292, 140, 133,\n",
    "   144, 144, 148, 183, 208, 141, 176, 205, 189, 239, 292, 187, 240, 290, 139, 132,\n",
    "   143, 144, 147, 182, 209, 141, 177, 206, 190, 240, 293, 188, 240, 292, 138, 132,\n",
    "   142, 147, 141, 172, 197, 153, 179, 199, 190, 240, 295, 193, 238, 293, 137, 141, 130,\n",
    "   143, 146, 137, 164, 171, 155, 177, 179, 190, 240, 295, 194, 239, 293, 138, 140, 131,\n",
    "   143, 145, 140, 147, 137, 152, 157, 139, 194, 241, 296, 196, 244, 294, 138, 132,\n",
    "   138, 144, 136, 127, 111, 153, 150, 114, 194, 240, 297, 197, 244, 294, 133, 135, 130,\n",
    "   139, 144, 137, 140, 120, 151, 149, 118, 196, 243, 295, 198, 243, 293, 134, 136, 131,\n",
    "   141, 143, 149, 176, 200, 138, 174, 197, 191, 242, 288, 187, 241, 284, 136, 132,\n",
    "   145, 149, 160, 175, 137, 196, 236, 276, 190, 237, 279, 141, 140, 131,\n",
    "   145, 152, 129, 130, 112, 139, 130, 112, 195, 237, 277, 191, 240, 285, 137, 129,\n",
    "   140, 145, 119, 96, 135, 123, 97, 193, 240, 281, 189, 241, 286, 129, 122,\n",
    "   137, 141, 123, 123, 103, 134, 126, 100, 101, 192, 239, 279, 189, 241, 286, 126, 118 \n",
    "]"
   ]
  },
  {
   "cell_type": "code",
   "execution_count": 36,
   "metadata": {},
   "outputs": [
    {
     "data": {
      "image/png": "[encoded data removed]",
      "text/plain": [
       "<matplotlib.figure.Figure at 0xf48b710>"
      ]
     },
     "metadata": {},
     "output_type": "display_data"
    }
   ],
   "source": [
    "import scipy\n",
    "from scipy import ndimage\n",
    "import numpy as np\n",
    "import matplotlib.pyplot as plt\n",
    "\n",
    "plt.plot(x, y,\"o\")\n",
    "plt.gca().invert_yaxis()"
   ]
  },
  {
   "cell_type": "code",
   "execution_count": 46,
   "metadata": {},
   "outputs": [
    {
     "name": "stdout",
     "output_type": "stream",
     "text": [
      "217\n",
      "144\n",
      "73\n"
     ]
    },
    {
     "data": {
      "image/png": "[encoded data removed]",
      "text/plain": [
       "<matplotlib.figure.Figure at 0xe20d7f0>"
      ]
     },
     "metadata": {},
     "output_type": "display_data"
    }
   ],
   "source": [
    "print (np.max(x))\n",
    "print (np.min(x))\n",
    "\n",
    "print ((max(x)-min(x)))\n",
    "\n",
    "newX = [i*1.0 / (max(x)-min(x)) for i in x]\n",
    "newY = [j*1.0 / (max(y)-min(y)) for j in y]\n",
    "\n",
    "plt.plot(newX, newY,\"o\")\n",
    "plt.gca().invert_yaxis()"
   ]
  },
  {
   "cell_type": "code",
   "execution_count": 59,
   "metadata": {},
   "outputs": [
    {
     "name": "stdout",
     "output_type": "stream",
     "text": [
      ".\\001.jpg\n",
      ".\\041.jpg\n",
      ".\\081.jpg\n",
      ".\\121.jpg\n",
      ".\\161.jpg\n",
      ".\\201.jpg\n",
      ".\\241.jpg\n",
      ".\\281.jpg\n",
      ".\\321.jpg\n",
      ".\\361.jpg\n",
      ".\\401.jpg\n",
      ".\\441.jpg\n",
      ".\\481.jpg\n",
      ".\\521.jpg\n"
     ]
    }
   ],
   "source": [
    "import os\n",
    "\n",
    "rootDir = '../sample_image/golfimage/images11'\n",
    "fileSet = set()\n",
    "\n",
    "for dir_, _, files in os.walk(rootDir):\n",
    "    for fileName in files:\n",
    "        relDir = os.path.relpath(dir_, rootDir)\n",
    "        relFile = os.path.join(relDir, fileName)\n",
    "        print(relFile)\n",
    "        oriImg = cv.imread(rootDir+'/'+relFile[2:]) # B,G,R order"
   ]
  },
  {
   "cell_type": "code",
   "execution_count": 52,
   "metadata": {},
   "outputs": [
    {
     "data": {
      "text/plain": [
       "'../sample_image/golfimage/images11/521.jpg'"
      ]
     },
     "execution_count": 52,
     "metadata": {},
     "output_type": "execute_result"
    }
   ],
   "source": [
    "rootDir+'/'+relFile[2:]"
   ]
  },
  {
   "cell_type": "code",
   "execution_count": null,
   "metadata": {
    "collapsed": true
   },
   "outputs": [],
   "source": []
  }
 ],
 "metadata": {
  "kernelspec": {
   "display_name": "Python 2",
   "language": "python",
   "name": "python2"
  },
  "language_info": {
   "codemirror_mode": {
    "name": "ipython",
    "version": 2
   },
   "file_extension": ".py",
   "mimetype": "text/x-python",
   "name": "python",
   "nbconvert_exporter": "python",
   "pygments_lexer": "ipython2",
   "version": "2.7.13"
  }
 },
 "nbformat": 4,
 "nbformat_minor": 2
}
